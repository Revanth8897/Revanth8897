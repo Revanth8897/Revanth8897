{
 "cells": [
  {
   "cell_type": "code",
   "execution_count": 4,
   "id": "aaa87c53-59aa-40f1-b2c6-ef5e5f9ea2e6",
   "metadata": {},
   "outputs": [
    {
     "name": "stdout",
     "output_type": "stream",
     "text": [
      "this: 2\n",
      "is: 3\n",
      "a: 1\n",
      "sample: 1\n",
      "text: 2\n",
      "for: 1\n",
      "testing: 1\n",
      "the: 2\n",
      "word: 2\n",
      "frequency: 2\n",
      "calculation: 2\n",
      "simple: 1\n",
      "and: 1\n",
      "effective: 1\n"
     ]
    }
   ],
   "source": [
    "from collections import Counter\n",
    "import re\n",
    "\n",
    "def word_frequency(text):\n",
    "    words = re.findall(r'\\b\\w+\\b', text.lower())\n",
    "    word_count = Counter(words)\n",
    "    \n",
    "    for word, frequency in word_count.items():\n",
    "        print(f\"{word}: {frequency}\")\n",
    "\n",
    "if __name__ == \"__main__\":\n",
    "    input_text = \"\"\"This is a sample text. This text is for testing the word frequency calculation.\n",
    "                    The word frequency calculation is simple and effective.\"\"\"\n",
    "    \n",
    "    word_frequency(input_text)"
   ]
  },
  {
   "cell_type": "code",
   "execution_count": null,
   "id": "41acd686-0e2d-4226-969e-325ee5dbb4a7",
   "metadata": {},
   "outputs": [],
   "source": []
  }
 ],
 "metadata": {
  "kernelspec": {
   "display_name": "Python [conda env:base] *",
   "language": "python",
   "name": "conda-base-py"
  },
  "language_info": {
   "codemirror_mode": {
    "name": "ipython",
    "version": 3
   },
   "file_extension": ".py",
   "mimetype": "text/x-python",
   "name": "python",
   "nbconvert_exporter": "python",
   "pygments_lexer": "ipython3",
   "version": "3.12.7"
  }
 },
 "nbformat": 4,
 "nbformat_minor": 5
}
